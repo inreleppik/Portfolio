{
 "cells": [
  {
   "cell_type": "markdown",
   "id": "a1c3f802",
   "metadata": {},
   "source": []
  },
  {
   "cell_type": "code",
   "execution_count": 6,
   "id": "d3564db0",
   "metadata": {},
   "outputs": [],
   "source": [
    "from tqdm.notebook import tqdm\n",
    "from bs4 import BeautifulSoup\n",
    "import requests\n",
    "import numpy as np\n",
    "import pandas as pd\n",
    "import time\n",
    "from typing import List"
   ]
  },
  {
   "cell_type": "markdown",
   "id": "4221c9b1",
   "metadata": {},
   "source": []
  },
  {
   "cell_type": "code",
   "execution_count": 3,
   "id": "3559a613",
   "metadata": {},
   "outputs": [],
   "source": [
    "def get_page_soup(url_link):\n",
    "    response = requests.get(url_link)\n",
    "    html = response.content\n",
    "    soup = BeautifulSoup(html,'html.parser')\n",
    "    return soup"
   ]
  },
  {
   "cell_type": "code",
   "execution_count": 4,
   "id": "7ced2a95",
   "metadata": {},
   "outputs": [
    {
     "data": {
      "text/plain": [
       "'Books to Scrape'"
      ]
     },
     "execution_count": 4,
     "metadata": {},
     "output_type": "execute_result"
    }
   ],
   "source": [
    "main_url = 'http://books.toscrape.com/catalogue/'\n",
    "page_number = 1\n",
    "\n",
    "soup = get_page_soup(main_url + f'page-{page_number}.html')\n",
    "soup.find_all('a')[0].text"
   ]
  },
  {
   "cell_type": "markdown",
   "id": "a56a2824",
   "metadata": {},
   "source": []
  },
  {
   "cell_type": "code",
   "execution_count": 5,
   "id": "6c23096e",
   "metadata": {},
   "outputs": [],
   "source": [
    "def get_book_links(page_soup) -> List[str]:\n",
    "    links = page_soup.find_all('li', attrs={'class': 'col-xs-6 col-sm-4 col-md-3 col-lg-3'})\n",
    "    links = [main_url + link.a.get('href') for link in links]\n",
    "    return links"
   ]
  },
  {
   "cell_type": "markdown",
   "id": "7bc1b0ef",
   "metadata": {},
   "source": []
  },
  {
   "cell_type": "code",
   "execution_count": 7,
   "id": "98385c06",
   "metadata": {},
   "outputs": [
    {
     "data": {
      "application/vnd.jupyter.widget-view+json": {
       "model_id": "3f901cfddf4f423691ea185a8d553c40",
       "version_major": 2,
       "version_minor": 0
      },
      "text/plain": [
       "  0%|          | 0/50 [00:00<?, ?it/s]"
      ]
     },
     "metadata": {},
     "output_type": "display_data"
    }
   ],
   "source": [
    "book_links = []\n",
    "\n",
    "for i in tqdm(np.arange(1, 51)):\n",
    "    soup = get_page_soup(main_url + f'page-{i}.html')\n",
    "    links = get_book_links(soup)\n",
    "    book_links.extend(links)"
   ]
  },
  {
   "cell_type": "markdown",
   "id": "59bf5ee9",
   "metadata": {},
   "source": []
  },
  {
   "cell_type": "code",
   "execution_count": 14,
   "id": "988cfd4f",
   "metadata": {},
   "outputs": [],
   "source": [
    "def get_book_info(link):\n",
    "    soup = get_page_soup(link)\n",
    "    name = soup.find('h1').text\n",
    "    desc = soup.find_all('p')[3].text\n",
    "    if len(desc) > 10:\n",
    "        desc = 1\n",
    "    else:\n",
    "        desc = 0\n",
    "    r = soup.find_all('p')[2].get('class')[1]\n",
    "    if r == 'Five':\n",
    "        r = 5.0\n",
    "    elif r == 'Four':\n",
    "        r = 4.0\n",
    "    elif r == 'Three':\n",
    "        r = 3.0\n",
    "    elif r == 'Two':\n",
    "        r = 2.0\n",
    "    else:\n",
    "        r = 1.0\n",
    "    \n",
    "    pbt = float(soup.find_all('td')[2].text[1:])\n",
    "    pat = float(soup.find_all('td')[3].text[1:])\n",
    "    tax = float(soup.find_all('td')[4].text[1:])\n",
    "    data = [name, desc, r, pbt, pat, tax]\n",
    "    return data"
   ]
  },
  {
   "cell_type": "code",
   "execution_count": 19,
   "id": "231b6d99",
   "metadata": {},
   "outputs": [
    {
     "data": {
      "text/html": [
       "<div>\n",
       "<style scoped>\n",
       "    .dataframe tbody tr th:only-of-type {\n",
       "        vertical-align: middle;\n",
       "    }\n",
       "\n",
       "    .dataframe tbody tr th {\n",
       "        vertical-align: top;\n",
       "    }\n",
       "\n",
       "    .dataframe thead th {\n",
       "        text-align: right;\n",
       "    }\n",
       "</style>\n",
       "<table border=\"1\" class=\"dataframe\">\n",
       "  <thead>\n",
       "    <tr style=\"text-align: right;\">\n",
       "      <th></th>\n",
       "      <th>Name</th>\n",
       "      <th>Description</th>\n",
       "      <th>Rating</th>\n",
       "      <th>Price_Before_TAX</th>\n",
       "      <th>Price_After_TAX</th>\n",
       "      <th>TAX</th>\n",
       "    </tr>\n",
       "  </thead>\n",
       "  <tbody>\n",
       "  </tbody>\n",
       "</table>\n",
       "</div>"
      ],
      "text/plain": [
       "Empty DataFrame\n",
       "Columns: [Name, Description, Rating, Price_Before_TAX, Price_After_TAX, TAX]\n",
       "Index: []"
      ]
     },
     "execution_count": 19,
     "metadata": {},
     "output_type": "execute_result"
    }
   ],
   "source": [
    "df = pd.DataFrame(columns = ['Name', 'Description', 'Rating', 'Price_Before_TAX', 'Price_After_TAX', 'TAX'])\n",
    "df"
   ]
  },
  {
   "cell_type": "markdown",
   "id": "e56f764f",
   "metadata": {},
   "source": []
  },
  {
   "cell_type": "code",
   "execution_count": 21,
   "id": "e17b9a5d",
   "metadata": {},
   "outputs": [
    {
     "data": {
      "text/plain": [
       "['Tipping the Velvet', 1, 1.0, 53.74, 53.74, 0.0]"
      ]
     },
     "execution_count": 21,
     "metadata": {},
     "output_type": "execute_result"
    }
   ],
   "source": [
    "get_book_info(book_links[1])"
   ]
  },
  {
   "cell_type": "code",
   "execution_count": 22,
   "id": "ed1ecb64",
   "metadata": {},
   "outputs": [
    {
     "data": {
      "application/vnd.jupyter.widget-view+json": {
       "model_id": "ccd91f422be145eaaff1b1a8e199eae0",
       "version_major": 2,
       "version_minor": 0
      },
      "text/plain": [
       "  0%|          | 0/1000 [00:00<?, ?it/s]"
      ]
     },
     "metadata": {},
     "output_type": "display_data"
    }
   ],
   "source": [
    "for link in tqdm(book_links):\n",
    "    df.loc[len(df)] = get_book_info(link)"
   ]
  },
  {
   "cell_type": "code",
   "execution_count": 23,
   "id": "2dd7f070",
   "metadata": {},
   "outputs": [
    {
     "data": {
      "text/html": [
       "<div>\n",
       "<style scoped>\n",
       "    .dataframe tbody tr th:only-of-type {\n",
       "        vertical-align: middle;\n",
       "    }\n",
       "\n",
       "    .dataframe tbody tr th {\n",
       "        vertical-align: top;\n",
       "    }\n",
       "\n",
       "    .dataframe thead th {\n",
       "        text-align: right;\n",
       "    }\n",
       "</style>\n",
       "<table border=\"1\" class=\"dataframe\">\n",
       "  <thead>\n",
       "    <tr style=\"text-align: right;\">\n",
       "      <th></th>\n",
       "      <th>Name</th>\n",
       "      <th>Description</th>\n",
       "      <th>Rating</th>\n",
       "      <th>Price_Before_TAX</th>\n",
       "      <th>Price_After_TAX</th>\n",
       "      <th>TAX</th>\n",
       "    </tr>\n",
       "  </thead>\n",
       "  <tbody>\n",
       "    <tr>\n",
       "      <th>0</th>\n",
       "      <td>A Light in the Attic</td>\n",
       "      <td>1</td>\n",
       "      <td>3.0</td>\n",
       "      <td>51.77</td>\n",
       "      <td>51.77</td>\n",
       "      <td>0.0</td>\n",
       "    </tr>\n",
       "    <tr>\n",
       "      <th>1</th>\n",
       "      <td>Tipping the Velvet</td>\n",
       "      <td>1</td>\n",
       "      <td>1.0</td>\n",
       "      <td>53.74</td>\n",
       "      <td>53.74</td>\n",
       "      <td>0.0</td>\n",
       "    </tr>\n",
       "    <tr>\n",
       "      <th>2</th>\n",
       "      <td>Soumission</td>\n",
       "      <td>1</td>\n",
       "      <td>1.0</td>\n",
       "      <td>50.10</td>\n",
       "      <td>50.10</td>\n",
       "      <td>0.0</td>\n",
       "    </tr>\n",
       "    <tr>\n",
       "      <th>3</th>\n",
       "      <td>Sharp Objects</td>\n",
       "      <td>1</td>\n",
       "      <td>4.0</td>\n",
       "      <td>47.82</td>\n",
       "      <td>47.82</td>\n",
       "      <td>0.0</td>\n",
       "    </tr>\n",
       "    <tr>\n",
       "      <th>4</th>\n",
       "      <td>Sapiens: A Brief History of Humankind</td>\n",
       "      <td>1</td>\n",
       "      <td>5.0</td>\n",
       "      <td>54.23</td>\n",
       "      <td>54.23</td>\n",
       "      <td>0.0</td>\n",
       "    </tr>\n",
       "    <tr>\n",
       "      <th>...</th>\n",
       "      <td>...</td>\n",
       "      <td>...</td>\n",
       "      <td>...</td>\n",
       "      <td>...</td>\n",
       "      <td>...</td>\n",
       "      <td>...</td>\n",
       "    </tr>\n",
       "    <tr>\n",
       "      <th>995</th>\n",
       "      <td>Alice in Wonderland (Alice's Adventures in Won...</td>\n",
       "      <td>0</td>\n",
       "      <td>1.0</td>\n",
       "      <td>55.53</td>\n",
       "      <td>55.53</td>\n",
       "      <td>0.0</td>\n",
       "    </tr>\n",
       "    <tr>\n",
       "      <th>996</th>\n",
       "      <td>Ajin: Demi-Human, Volume 1 (Ajin: Demi-Human #1)</td>\n",
       "      <td>1</td>\n",
       "      <td>4.0</td>\n",
       "      <td>57.06</td>\n",
       "      <td>57.06</td>\n",
       "      <td>0.0</td>\n",
       "    </tr>\n",
       "    <tr>\n",
       "      <th>997</th>\n",
       "      <td>A Spy's Devotion (The Regency Spies of London #1)</td>\n",
       "      <td>1</td>\n",
       "      <td>5.0</td>\n",
       "      <td>16.97</td>\n",
       "      <td>16.97</td>\n",
       "      <td>0.0</td>\n",
       "    </tr>\n",
       "    <tr>\n",
       "      <th>998</th>\n",
       "      <td>1st to Die (Women's Murder Club #1)</td>\n",
       "      <td>1</td>\n",
       "      <td>1.0</td>\n",
       "      <td>53.98</td>\n",
       "      <td>53.98</td>\n",
       "      <td>0.0</td>\n",
       "    </tr>\n",
       "    <tr>\n",
       "      <th>999</th>\n",
       "      <td>1,000 Places to See Before You Die</td>\n",
       "      <td>1</td>\n",
       "      <td>5.0</td>\n",
       "      <td>26.08</td>\n",
       "      <td>26.08</td>\n",
       "      <td>0.0</td>\n",
       "    </tr>\n",
       "  </tbody>\n",
       "</table>\n",
       "<p>1000 rows × 6 columns</p>\n",
       "</div>"
      ],
      "text/plain": [
       "                                                  Name  Description  Rating  \\\n",
       "0                                 A Light in the Attic            1     3.0   \n",
       "1                                   Tipping the Velvet            1     1.0   \n",
       "2                                           Soumission            1     1.0   \n",
       "3                                        Sharp Objects            1     4.0   \n",
       "4                Sapiens: A Brief History of Humankind            1     5.0   \n",
       "..                                                 ...          ...     ...   \n",
       "995  Alice in Wonderland (Alice's Adventures in Won...            0     1.0   \n",
       "996   Ajin: Demi-Human, Volume 1 (Ajin: Demi-Human #1)            1     4.0   \n",
       "997  A Spy's Devotion (The Regency Spies of London #1)            1     5.0   \n",
       "998                1st to Die (Women's Murder Club #1)            1     1.0   \n",
       "999                 1,000 Places to See Before You Die            1     5.0   \n",
       "\n",
       "     Price_Before_TAX  Price_After_TAX  TAX  \n",
       "0               51.77            51.77  0.0  \n",
       "1               53.74            53.74  0.0  \n",
       "2               50.10            50.10  0.0  \n",
       "3               47.82            47.82  0.0  \n",
       "4               54.23            54.23  0.0  \n",
       "..                ...              ...  ...  \n",
       "995             55.53            55.53  0.0  \n",
       "996             57.06            57.06  0.0  \n",
       "997             16.97            16.97  0.0  \n",
       "998             53.98            53.98  0.0  \n",
       "999             26.08            26.08  0.0  \n",
       "\n",
       "[1000 rows x 6 columns]"
      ]
     },
     "execution_count": 23,
     "metadata": {},
     "output_type": "execute_result"
    }
   ],
   "source": [
    "df"
   ]
  },
  {
   "cell_type": "markdown",
   "id": "70f5813e",
   "metadata": {},
   "source": []
  },
  {
   "cell_type": "code",
   "execution_count": 25,
   "id": "22c0394b",
   "metadata": {},
   "outputs": [],
   "source": [
    "df.to_csv('books.csv')"
   ]
  }
 ],
 "metadata": {
  "kernelspec": {
   "display_name": "Python 3 (ipykernel)",
   "language": "python",
   "name": "python3"
  },
  "language_info": {
   "codemirror_mode": {
    "name": "ipython",
    "version": 3
   },
   "file_extension": ".py",
   "mimetype": "text/x-python",
   "name": "python",
   "nbconvert_exporter": "python",
   "pygments_lexer": "ipython3",
   "version": "3.9.13"
  }
 },
 "nbformat": 4,
 "nbformat_minor": 5
}
