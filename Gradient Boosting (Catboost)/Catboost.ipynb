{
 "cells": [
  {
   "cell_type": "markdown",
   "id": "439d0793",
   "metadata": {},
   "source": [
    "# Gradient Boosting"
   ]
  },
  {
   "cell_type": "markdown",
   "id": "656066cd",
   "metadata": {},
   "source": [
    "This project will explore the application of gradient boosting to real-world problems.\n",
    "\n",
    "We will use the [data of the Yandex Real Estate service](https://drive.google.com/drive/folders/1hNo7CbzHyOk40EaGj3sTi9cjmv7_rC0F?usp=share_link): we will use the information from the ad to predict the time of its exposure on the service.\n",
    "\n",
    "The mean absolute error (MAE) will be used to measure the quality of the models in this project.\n",
    "\n"
   ]
  },
  {
   "cell_type": "code",
   "execution_count": 1,
   "id": "cc3f3f74",
   "metadata": {},
   "outputs": [],
   "source": [
    "import matplotlib.pyplot as plt\n",
    "import seaborn as sns\n",
    "import numpy as np\n",
    "import pandas as pd\n",
    "import catboost\n",
    "from sklearn.model_selection import train_test_split\n",
    "from sklearn.metrics import mean_absolute_error\n",
    "\n",
    "data = pd.read_csv('data.tsv', sep='\\t')\n",
    "data = data[:100_000]\n",
    "num_features = ['agent_fee', 'floor', 'floors_total', 'kitchen_area', 'living_area', 'price', 'rooms_offered', 'total_area', 'total_images']\n",
    "cat_features = ['balcony', 'building_type', 'month', 'renovation', 'studio']\n",
    "\n",
    "X_train, X_test, y_train, y_test = train_test_split(data[num_features+cat_features], data['exposition_time'], test_size=0.3, shuffle=False)"
   ]
  },
  {
   "cell_type": "code",
   "execution_count": 2,
   "id": "77598097",
   "metadata": {},
   "outputs": [
    {
     "data": {
      "text/html": [
       "<div>\n",
       "<style scoped>\n",
       "    .dataframe tbody tr th:only-of-type {\n",
       "        vertical-align: middle;\n",
       "    }\n",
       "\n",
       "    .dataframe tbody tr th {\n",
       "        vertical-align: top;\n",
       "    }\n",
       "\n",
       "    .dataframe thead th {\n",
       "        text-align: right;\n",
       "    }\n",
       "</style>\n",
       "<table border=\"1\" class=\"dataframe\">\n",
       "  <thead>\n",
       "    <tr style=\"text-align: right;\">\n",
       "      <th></th>\n",
       "      <th>agent_fee</th>\n",
       "      <th>balcony</th>\n",
       "      <th>building_type</th>\n",
       "      <th>exposition_time</th>\n",
       "      <th>first_day_exposition</th>\n",
       "      <th>floor</th>\n",
       "      <th>floors_total</th>\n",
       "      <th>kitchen_area</th>\n",
       "      <th>living_area</th>\n",
       "      <th>month</th>\n",
       "      <th>price</th>\n",
       "      <th>renovation</th>\n",
       "      <th>rooms_offered</th>\n",
       "      <th>studio</th>\n",
       "      <th>total_area</th>\n",
       "      <th>total_images</th>\n",
       "      <th>unified_address</th>\n",
       "    </tr>\n",
       "  </thead>\n",
       "  <tbody>\n",
       "    <tr>\n",
       "      <th>0</th>\n",
       "      <td>60.0</td>\n",
       "      <td>0</td>\n",
       "      <td>4</td>\n",
       "      <td>551</td>\n",
       "      <td>2018-06-30T00:00:00.000+03:00</td>\n",
       "      <td>7</td>\n",
       "      <td>9.0</td>\n",
       "      <td>9.0</td>\n",
       "      <td>31.0</td>\n",
       "      <td>June</td>\n",
       "      <td>30000</td>\n",
       "      <td>0</td>\n",
       "      <td>2</td>\n",
       "      <td>False</td>\n",
       "      <td>48.0</td>\n",
       "      <td>12</td>\n",
       "      <td>Россия, Москва, Ясеневая улица, 10к1</td>\n",
       "    </tr>\n",
       "    <tr>\n",
       "      <th>1</th>\n",
       "      <td>50.0</td>\n",
       "      <td>0</td>\n",
       "      <td>4</td>\n",
       "      <td>544</td>\n",
       "      <td>2018-06-30T00:00:00.000+03:00</td>\n",
       "      <td>5</td>\n",
       "      <td>17.0</td>\n",
       "      <td>-1.0</td>\n",
       "      <td>-1.0</td>\n",
       "      <td>June</td>\n",
       "      <td>55000</td>\n",
       "      <td>0</td>\n",
       "      <td>2</td>\n",
       "      <td>False</td>\n",
       "      <td>60.0</td>\n",
       "      <td>12</td>\n",
       "      <td>Россия, Москва, 13-я Парковая улица, 38к2</td>\n",
       "    </tr>\n",
       "    <tr>\n",
       "      <th>2</th>\n",
       "      <td>50.0</td>\n",
       "      <td>0</td>\n",
       "      <td>4</td>\n",
       "      <td>544</td>\n",
       "      <td>2018-06-30T00:00:00.000+03:00</td>\n",
       "      <td>8</td>\n",
       "      <td>17.0</td>\n",
       "      <td>12.0</td>\n",
       "      <td>-1.0</td>\n",
       "      <td>June</td>\n",
       "      <td>45000</td>\n",
       "      <td>0</td>\n",
       "      <td>2</td>\n",
       "      <td>False</td>\n",
       "      <td>68.0</td>\n",
       "      <td>13</td>\n",
       "      <td>Россия, Москва, Щёлковское шоссе, 27</td>\n",
       "    </tr>\n",
       "    <tr>\n",
       "      <th>3</th>\n",
       "      <td>60.0</td>\n",
       "      <td>0</td>\n",
       "      <td>6</td>\n",
       "      <td>551</td>\n",
       "      <td>2018-06-30T00:00:00.000+03:00</td>\n",
       "      <td>7</td>\n",
       "      <td>16.0</td>\n",
       "      <td>10.0</td>\n",
       "      <td>20.0</td>\n",
       "      <td>June</td>\n",
       "      <td>25000</td>\n",
       "      <td>0</td>\n",
       "      <td>1</td>\n",
       "      <td>False</td>\n",
       "      <td>40.0</td>\n",
       "      <td>12</td>\n",
       "      <td>Россия, Москва, Свободный проспект, 7к1</td>\n",
       "    </tr>\n",
       "    <tr>\n",
       "      <th>4</th>\n",
       "      <td>50.0</td>\n",
       "      <td>0</td>\n",
       "      <td>1</td>\n",
       "      <td>443</td>\n",
       "      <td>2018-06-30T00:00:00.000+03:00</td>\n",
       "      <td>7</td>\n",
       "      <td>14.0</td>\n",
       "      <td>8.0</td>\n",
       "      <td>30.0</td>\n",
       "      <td>June</td>\n",
       "      <td>50000</td>\n",
       "      <td>0</td>\n",
       "      <td>2</td>\n",
       "      <td>False</td>\n",
       "      <td>40.0</td>\n",
       "      <td>16</td>\n",
       "      <td>Россия, Москва, Фестивальная улица, 59к3</td>\n",
       "    </tr>\n",
       "  </tbody>\n",
       "</table>\n",
       "</div>"
      ],
      "text/plain": [
       "   agent_fee  balcony  building_type  exposition_time  \\\n",
       "0       60.0        0              4              551   \n",
       "1       50.0        0              4              544   \n",
       "2       50.0        0              4              544   \n",
       "3       60.0        0              6              551   \n",
       "4       50.0        0              1              443   \n",
       "\n",
       "            first_day_exposition  floor  floors_total  kitchen_area  \\\n",
       "0  2018-06-30T00:00:00.000+03:00      7           9.0           9.0   \n",
       "1  2018-06-30T00:00:00.000+03:00      5          17.0          -1.0   \n",
       "2  2018-06-30T00:00:00.000+03:00      8          17.0          12.0   \n",
       "3  2018-06-30T00:00:00.000+03:00      7          16.0          10.0   \n",
       "4  2018-06-30T00:00:00.000+03:00      7          14.0           8.0   \n",
       "\n",
       "   living_area month  price  renovation  rooms_offered  studio  total_area  \\\n",
       "0         31.0  June  30000           0              2   False        48.0   \n",
       "1         -1.0  June  55000           0              2   False        60.0   \n",
       "2         -1.0  June  45000           0              2   False        68.0   \n",
       "3         20.0  June  25000           0              1   False        40.0   \n",
       "4         30.0  June  50000           0              2   False        40.0   \n",
       "\n",
       "   total_images                            unified_address  \n",
       "0            12       Россия, Москва, Ясеневая улица, 10к1  \n",
       "1            12  Россия, Москва, 13-я Парковая улица, 38к2  \n",
       "2            13       Россия, Москва, Щёлковское шоссе, 27  \n",
       "3            12    Россия, Москва, Свободный проспект, 7к1  \n",
       "4            16   Россия, Москва, Фестивальная улица, 59к3  "
      ]
     },
     "execution_count": 2,
     "metadata": {},
     "output_type": "execute_result"
    }
   ],
   "source": [
    "data.head()"
   ]
  },
  {
   "cell_type": "markdown",
   "id": "debe68bb",
   "metadata": {},
   "source": [
    "Let's start by training the Catboost model on numeric features without selection of model parameters, but with 300 trees."
   ]
  },
  {
   "cell_type": "code",
   "execution_count": 3,
   "id": "03a2eaca",
   "metadata": {},
   "outputs": [],
   "source": [
    "from catboost import CatBoostRegressor\n",
    "cbr = CatBoostRegressor(n_estimators=300)"
   ]
  },
  {
   "cell_type": "code",
   "execution_count": 21,
   "id": "beca4fc9",
   "metadata": {},
   "outputs": [],
   "source": [
    "cbr.fit(X_train[num_features], y_train)\n",
    "y_pred = cbr.predict(X_test[num_features])\n",
    "mae_cbr = mean_absolute_error(y_test, y_pred)\n",
    "print(mae_cbr)"
   ]
  },
  {
   "cell_type": "markdown",
   "id": "06dfb9c0",
   "metadata": {},
   "source": [
    "Let't select parameters for Catboost model among these characteristics:\n",
    "* max_depth {5, 7, 9};\n",
    "* learning_rate {0.05, 0.1, 0.5}."
   ]
  },
  {
   "cell_type": "code",
   "execution_count": 5,
   "id": "9a438bd6",
   "metadata": {},
   "outputs": [],
   "source": [
    "params = {'max_depth': [5, 7, 9],\n",
    "         'learning_rate': [0.05, 0.1, 0.5]}\n",
    "cbr = CatBoostRegressor(n_estimators=300, random_seed=0)"
   ]
  },
  {
   "cell_type": "code",
   "execution_count": 22,
   "id": "3f2d5ea0",
   "metadata": {},
   "outputs": [],
   "source": [
    "gs_cbr = cbr.grid_search(params, X=X_train[num_features], y=y_train, search_by_train_test_split=False)"
   ]
  },
  {
   "cell_type": "code",
   "execution_count": 11,
   "id": "bffb879d",
   "metadata": {},
   "outputs": [
    {
     "data": {
      "text/plain": [
       "{'depth': 7, 'learning_rate': 0.05}"
      ]
     },
     "execution_count": 11,
     "metadata": {},
     "output_type": "execute_result"
    }
   ],
   "source": [
    "gs_cbr['params']"
   ]
  },
  {
   "cell_type": "code",
   "execution_count": 23,
   "id": "5890c061",
   "metadata": {},
   "outputs": [],
   "source": [
    "cbr =CatBoostRegressor(n_estimators=300, random_seed=0, learning_rate=0.05, max_depth=7)\n",
    "cbr.fit(X_train[num_features], y_train)\n",
    "y_train_cbr = cbr.predict(X_train[num_features])\n",
    "y_pred_cbr = cbr.predict(X_test[num_features])\n",
    "mae = mean_absolute_error(y_test, y_pred_cbr)\n",
    "print(mae)"
   ]
  },
  {
   "cell_type": "markdown",
   "id": "d866e041",
   "metadata": {},
   "source": [
    "So far, only numeric features have been used, but categorical features may also be useful for the problem.\n",
    "So, let's train Catboost model with obtained optimal parametrs using categorical features."
   ]
  },
  {
   "cell_type": "code",
   "execution_count": 24,
   "id": "c1ef4960",
   "metadata": {},
   "outputs": [],
   "source": [
    "cbr = CatBoostRegressor(n_estimators=300, random_seed=0, learning_rate=0.05, max_depth=7)\n",
    "cbr.fit(X_train, y_train, cat_features=cat_features)"
   ]
  },
  {
   "cell_type": "code",
   "execution_count": 8,
   "id": "5a8cb321",
   "metadata": {},
   "outputs": [],
   "source": [
    "y_train_cbr_cf = cbr.predict(X_train)\n",
    "y_pred_cbr_cf = cbr.predict(X_test)"
   ]
  },
  {
   "cell_type": "code",
   "execution_count": 9,
   "id": "e2633c39",
   "metadata": {},
   "outputs": [
    {
     "name": "stdout",
     "output_type": "stream",
     "text": [
      "39.910456466458875\n"
     ]
    }
   ],
   "source": [
    "mae = mean_absolute_error(y_test, y_pred_cbr_cf)\n",
    "print(mae)"
   ]
  },
  {
   "cell_type": "markdown",
   "id": "11941442",
   "metadata": {},
   "source": [
    "As an example, blending also implemented for models obtained by training with and without categorical variables."
   ]
  },
  {
   "cell_type": "code",
   "execution_count": 10,
   "id": "e763b5f6",
   "metadata": {},
   "outputs": [],
   "source": [
    "from tqdm.notebook import tqdm\n",
    "def select_weights(y_true, y_pred_1, y_pred_2):\n",
    "    metric = []\n",
    "    grid = np.linspace(0, 1, 1000)\n",
    "    for w_0 in tqdm(grid):\n",
    "      w_1 = 1 - w_0\n",
    "      y = y_pred_1 * w_0 + y_pred_2 * w_1\n",
    "\n",
    "      metric.append([mean_absolute_error(y_true, y), w_0, w_1])\n",
    "\n",
    "    return metric"
   ]
  },
  {
   "cell_type": "code",
   "execution_count": 12,
   "id": "dfcf0ac8",
   "metadata": {},
   "outputs": [],
   "source": [
    "mae_blending_train, w_0, w_1 = min(select_weights(y_train, y_train_cbr, y_train_cbr_cf), key=lambda x: x[0])"
   ]
  },
  {
   "cell_type": "code",
   "execution_count": 87,
   "id": "b04d9c3b",
   "metadata": {},
   "outputs": [
    {
     "data": {
      "text/plain": [
       "36.14060634541386"
      ]
     },
     "execution_count": 87,
     "metadata": {},
     "output_type": "execute_result"
    }
   ],
   "source": [
    "mae_blending_train"
   ]
  },
  {
   "cell_type": "code",
   "execution_count": 88,
   "id": "ce016341",
   "metadata": {},
   "outputs": [
    {
     "name": "stdout",
     "output_type": "stream",
     "text": [
      "Test MAE blending = 39.9620\n"
     ]
    }
   ],
   "source": [
    "print(\"Test MAE blending = %.4f\" % mean_absolute_error(y_test, y_pred_cbr * w_0 +  y_pred_cbr_cf * w_1))"
   ]
  },
  {
   "cell_type": "markdown",
   "id": "71d1c5ce",
   "metadata": {},
   "source": [
    "### Visualization of feature importance"
   ]
  },
  {
   "cell_type": "code",
   "execution_count": 13,
   "id": "3506d606",
   "metadata": {},
   "outputs": [
    {
     "data": {
      "image/png": "[encoded data removed]",
      "text/plain": [
       "<Figure size 1700x700 with 1 Axes>"
      ]
     },
     "metadata": {},
     "output_type": "display_data"
    }
   ],
   "source": [
    "plt.figure(figsize=(17,7))\n",
    "sns.barplot(x=X_train.columns, y=cbr.feature_importances_ );"
   ]
  },
  {
   "cell_type": "markdown",
   "id": "11491b92",
   "metadata": {},
   "source": [
    "Based on the importance of the features, let's exclude some features that have an importance below 5 and train the model again."
   ]
  },
  {
   "cell_type": "code",
   "execution_count": 15,
   "id": "c9ca82f8",
   "metadata": {},
   "outputs": [],
   "source": [
    "imp_col = X_train.columns[cbr.feature_importances_>5]"
   ]
  },
  {
   "cell_type": "code",
   "execution_count": 16,
   "id": "d0fd8891",
   "metadata": {},
   "outputs": [],
   "source": [
    "new_cat_f = ['building_type', 'renovation']"
   ]
  },
  {
   "cell_type": "code",
   "execution_count": 17,
   "id": "30318c74",
   "metadata": {},
   "outputs": [
    {
     "data": {
      "text/html": [
       "<div>\n",
       "<style scoped>\n",
       "    .dataframe tbody tr th:only-of-type {\n",
       "        vertical-align: middle;\n",
       "    }\n",
       "\n",
       "    .dataframe tbody tr th {\n",
       "        vertical-align: top;\n",
       "    }\n",
       "\n",
       "    .dataframe thead th {\n",
       "        text-align: right;\n",
       "    }\n",
       "</style>\n",
       "<table border=\"1\" class=\"dataframe\">\n",
       "  <thead>\n",
       "    <tr style=\"text-align: right;\">\n",
       "      <th></th>\n",
       "      <th>agent_fee</th>\n",
       "      <th>kitchen_area</th>\n",
       "      <th>living_area</th>\n",
       "      <th>price</th>\n",
       "      <th>total_area</th>\n",
       "      <th>total_images</th>\n",
       "      <th>building_type</th>\n",
       "      <th>renovation</th>\n",
       "    </tr>\n",
       "  </thead>\n",
       "  <tbody>\n",
       "    <tr>\n",
       "      <th>0</th>\n",
       "      <td>60.0</td>\n",
       "      <td>9.0</td>\n",
       "      <td>31.0</td>\n",
       "      <td>30000</td>\n",
       "      <td>48.0</td>\n",
       "      <td>12</td>\n",
       "      <td>4</td>\n",
       "      <td>0</td>\n",
       "    </tr>\n",
       "    <tr>\n",
       "      <th>1</th>\n",
       "      <td>50.0</td>\n",
       "      <td>-1.0</td>\n",
       "      <td>-1.0</td>\n",
       "      <td>55000</td>\n",
       "      <td>60.0</td>\n",
       "      <td>12</td>\n",
       "      <td>4</td>\n",
       "      <td>0</td>\n",
       "    </tr>\n",
       "    <tr>\n",
       "      <th>2</th>\n",
       "      <td>50.0</td>\n",
       "      <td>12.0</td>\n",
       "      <td>-1.0</td>\n",
       "      <td>45000</td>\n",
       "      <td>68.0</td>\n",
       "      <td>13</td>\n",
       "      <td>4</td>\n",
       "      <td>0</td>\n",
       "    </tr>\n",
       "    <tr>\n",
       "      <th>3</th>\n",
       "      <td>60.0</td>\n",
       "      <td>10.0</td>\n",
       "      <td>20.0</td>\n",
       "      <td>25000</td>\n",
       "      <td>40.0</td>\n",
       "      <td>12</td>\n",
       "      <td>6</td>\n",
       "      <td>0</td>\n",
       "    </tr>\n",
       "    <tr>\n",
       "      <th>4</th>\n",
       "      <td>50.0</td>\n",
       "      <td>8.0</td>\n",
       "      <td>30.0</td>\n",
       "      <td>50000</td>\n",
       "      <td>40.0</td>\n",
       "      <td>16</td>\n",
       "      <td>1</td>\n",
       "      <td>0</td>\n",
       "    </tr>\n",
       "  </tbody>\n",
       "</table>\n",
       "</div>"
      ],
      "text/plain": [
       "   agent_fee  kitchen_area  living_area  price  total_area  total_images  \\\n",
       "0       60.0           9.0         31.0  30000        48.0            12   \n",
       "1       50.0          -1.0         -1.0  55000        60.0            12   \n",
       "2       50.0          12.0         -1.0  45000        68.0            13   \n",
       "3       60.0          10.0         20.0  25000        40.0            12   \n",
       "4       50.0           8.0         30.0  50000        40.0            16   \n",
       "\n",
       "   building_type  renovation  \n",
       "0              4           0  \n",
       "1              4           0  \n",
       "2              4           0  \n",
       "3              6           0  \n",
       "4              1           0  "
      ]
     },
     "execution_count": 17,
     "metadata": {},
     "output_type": "execute_result"
    }
   ],
   "source": [
    "new_X_train = X_train[imp_col]\n",
    "new_X_test = X_test[imp_col]\n",
    "new_X_train.head()"
   ]
  },
  {
   "cell_type": "code",
   "execution_count": 25,
   "id": "cda02d60",
   "metadata": {},
   "outputs": [],
   "source": [
    "cbr = CatBoostRegressor(n_estimators=300, learning_rate=0.05, max_depth=7, random_seed=0)\n",
    "cbr.fit(new_X_train, y_train, cat_features=new_cat_f)\n",
    "new_y_pred = cbr.predict(new_X_test)"
   ]
  },
  {
   "cell_type": "code",
   "execution_count": 20,
   "id": "58fbd91d",
   "metadata": {},
   "outputs": [
    {
     "name": "stdout",
     "output_type": "stream",
     "text": [
      "40.125490465971026\n"
     ]
    }
   ],
   "source": [
    "new_mae = mean_absolute_error(y_test, new_y_pred)\n",
    "print(new_mae)"
   ]
  }
 ],
 "metadata": {
  "kernelspec": {
   "display_name": "Python 3 (ipykernel)",
   "language": "python",
   "name": "python3"
  },
  "language_info": {
   "codemirror_mode": {
    "name": "ipython",
    "version": 3
   },
   "file_extension": ".py",
   "mimetype": "text/x-python",
   "name": "python",
   "nbconvert_exporter": "python",
   "pygments_lexer": "ipython3",
   "version": "3.9.13"
  }
 },
 "nbformat": 4,
 "nbformat_minor": 5
}
